{
 "cells": [
  {
   "cell_type": "markdown",
   "metadata": {},
   "source": [
    "Now you want to figure out the longest stretch of letters (amino acids) in each of `prot1`, `prot2`, and `prot3` that doesn't contain any `'*'` characters. \n",
    "\n",
    "Do this by defining a new function, for example `def find_longest_orf(protseq):` that you can use repeatedly.\n",
    "\n",
    "You can write that function however you like, but as a hint, consider what happens if you do\n",
    "\n",
    "```\n",
    "protseq.split('*')\n",
    "```\n",
    "\n",
    "Could you use the list that is returned by that split statement somehow?"
   ]
  },
  {
   "cell_type": "code",
   "execution_count": null,
   "metadata": {},
   "outputs": [],
   "source": [
    "def find_longest_orf(protseq):\n",
    "    longest_open_frame = protseq.split('*')\n",
    "    #for i in longest_open_frame:\n",
    "        #if len(i) < 290:\n",
    "            #return protseq.split ('*')\n",
    "    #else:\n",
    "        #pass\n",
    "longest_string_length = 0\n",
    "all_strings = len(prot1)\n",
    "#for s in all_strings:\n",
    "    #if len(s) > longest_string_length:\n",
    "        #longest_string_length = len(s)\n",
    "print (all_strings)\n",
    "#print (find_longest_orf(prot1))"
   ]
  }
 ],
 "metadata": {
  "language_info": {
   "name": "python"
  },
  "orig_nbformat": 4
 },
 "nbformat": 4,
 "nbformat_minor": 2
}
